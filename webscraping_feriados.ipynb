{
 "cells": [
  {
   "attachments": {},
   "cell_type": "markdown",
   "id": "1dd185c5",
   "metadata": {},
   "source": [
    "# 1. WebScraping"
   ]
  },
  {
   "attachments": {},
   "cell_type": "markdown",
   "id": "21742963",
   "metadata": {},
   "source": [
    "### Importando bibliotecas"
   ]
  },
  {
   "cell_type": "code",
   "execution_count": 2,
   "id": "01dc1f36",
   "metadata": {},
   "outputs": [],
   "source": [
    "from bs4 import BeautifulSoup\n",
    "import pandas as pd\n",
    "import requests\n",
    "import numpy as np"
   ]
  },
  {
   "attachments": {},
   "cell_type": "markdown",
   "id": "831758f5",
   "metadata": {},
   "source": [
    "### Criando variáveis"
   ]
  },
  {
   "cell_type": "code",
   "execution_count": 3,
   "id": "42a86411",
   "metadata": {},
   "outputs": [],
   "source": [
    "lista_cidades = {}\n",
    "\n",
    "estados = ['sp', 'mg']\n",
    "\n",
    "dic = {\n",
    "    \" \": \"_\",\n",
    "    \"'\": \"\",\n",
    "    \"â\": \"a\",\n",
    "    \"ã\": \"a\",\n",
    "    \"á\": \"a\",\n",
    "    \"é\": \"e\",\n",
    "    \"ê\": \"e\",\n",
    "    \"í\": \"i\",\n",
    "    \"ó\": \"o\",\n",
    "    \"õ\": \"o\",\n",
    "    \"ô\": \"o\",\n",
    "    \"ú\": \"u\",\n",
    "    \"ç\": \"c\"\n",
    "    \n",
    "}"
   ]
  },
  {
   "cell_type": "code",
   "execution_count": 4,
   "id": "aab9243c",
   "metadata": {},
   "outputs": [],
   "source": [
    "def replace_all(text, dic):\n",
    "    for i, j in dic.items():\n",
    "        text = text.replace(i, j)\n",
    "    return text"
   ]
  },
  {
   "cell_type": "code",
   "execution_count": 5,
   "id": "5514f5b5",
   "metadata": {},
   "outputs": [],
   "source": [
    "for estado in estados: \n",
    "    headers = {'user-agent': 'Mozilla/5.0'}\n",
    "    url = f'https://www.feriados.com.br/feriados-estado-{estado}.php?ano=2023'\n",
    "    response  = requests.get(url, headers = headers)\n",
    "    response_text = response.text\n",
    "    \n",
    "    soup = BeautifulSoup(response_text, 'lxml')\n",
    "    \n",
    "    cidades = soup.find('div', id='div_outras_cidades').find_all('a')\n",
    "    for c in cidades:\n",
    "        cidade = c.text\n",
    "        cidade_padronizado = replace_all(cidade.lower(), dic)\n",
    "        lista_cidades[f'{cidade} - {estado.upper()}'] = f'{cidade_padronizado}-{estado}'"
   ]
  },
  {
   "cell_type": "code",
   "execution_count": 6,
   "id": "8eab11d0",
   "metadata": {
    "scrolled": true
   },
   "outputs": [],
   "source": [
    "lista_completa = []\n",
    "\n",
    "for nome, link in lista_cidades.items():\n",
    "    \n",
    "    lista_estado = []\n",
    "    lista_cidade = []\n",
    "    lista_datas = []\n",
    "    lista_feriados = []\n",
    "\n",
    "    \n",
    "    url = f'https://www.feriados.com.br/feriados-{link}.php?ano=2023'\n",
    "\n",
    "    \n",
    "    response = requests.get(url)\n",
    "    response_text = response.text\n",
    "\n",
    "    soup = BeautifulSoup(response_text, 'lxml')\n",
    "\n",
    "    feriads = soup.find('ul', class_='multi-column')\n",
    "    feriados = feriads.find_all('li')\n",
    "\n",
    "\n",
    "    for feriado in feriados:\n",
    "        lista_cidade.append('-'.join(nome.split('-')[:-1]).strip())\n",
    "        lista_estado.append(nome.split('-')[-1].strip())\n",
    "        \n",
    "        lista = feriado.text.split('-')\n",
    "        lista_datas.append(lista[0].strip())\n",
    "        lista_feriados.append((' '.join(lista[1:])).strip().title())\n",
    "\n",
    "    lista_completa.extend(list(zip(lista_cidade,lista_estado,lista_datas,lista_feriados)))"
   ]
  },
  {
   "cell_type": "code",
   "execution_count": 7,
   "id": "3ad5a023",
   "metadata": {},
   "outputs": [
    {
     "data": {
      "text/plain": [
       "[('Adamantina', 'SP', '01/01/2023', 'Ano Novo'),\n",
       " ('Adamantina', 'SP', '20/02/2023', 'Carnaval'),\n",
       " ('Adamantina', 'SP', '21/02/2023', 'Carnaval'),\n",
       " ('Adamantina', 'SP', '22/02/2023', 'Carnaval'),\n",
       " ('Adamantina', 'SP', '07/04/2023', 'Sexta Feira Santa')]"
      ]
     },
     "execution_count": 7,
     "metadata": {},
     "output_type": "execute_result"
    }
   ],
   "source": [
    "lista_completa[0:5]"
   ]
  },
  {
   "attachments": {},
   "cell_type": "markdown",
   "id": "39400be8",
   "metadata": {},
   "source": [
    "# 2. Criação do DataFrame e tratamento"
   ]
  },
  {
   "cell_type": "code",
   "execution_count": 8,
   "id": "d9e2b2f8",
   "metadata": {},
   "outputs": [],
   "source": [
    "columns = ['Cidade','Estado','Data','Feriado']"
   ]
  },
  {
   "cell_type": "code",
   "execution_count": 9,
   "id": "adb62188",
   "metadata": {},
   "outputs": [],
   "source": [
    "df = pd.DataFrame(lista_completa, columns = columns)"
   ]
  },
  {
   "cell_type": "code",
   "execution_count": 10,
   "id": "2357c43b",
   "metadata": {},
   "outputs": [
    {
     "data": {
      "text/html": [
       "<div>\n",
       "<style scoped>\n",
       "    .dataframe tbody tr th:only-of-type {\n",
       "        vertical-align: middle;\n",
       "    }\n",
       "\n",
       "    .dataframe tbody tr th {\n",
       "        vertical-align: top;\n",
       "    }\n",
       "\n",
       "    .dataframe thead th {\n",
       "        text-align: right;\n",
       "    }\n",
       "</style>\n",
       "<table border=\"1\" class=\"dataframe\">\n",
       "  <thead>\n",
       "    <tr style=\"text-align: right;\">\n",
       "      <th></th>\n",
       "      <th>Cidade</th>\n",
       "      <th>Estado</th>\n",
       "      <th>Data</th>\n",
       "      <th>Feriado</th>\n",
       "    </tr>\n",
       "  </thead>\n",
       "  <tbody>\n",
       "    <tr>\n",
       "      <th>0</th>\n",
       "      <td>Adamantina</td>\n",
       "      <td>SP</td>\n",
       "      <td>01/01/2023</td>\n",
       "      <td>Ano Novo</td>\n",
       "    </tr>\n",
       "    <tr>\n",
       "      <th>1</th>\n",
       "      <td>Adamantina</td>\n",
       "      <td>SP</td>\n",
       "      <td>20/02/2023</td>\n",
       "      <td>Carnaval</td>\n",
       "    </tr>\n",
       "    <tr>\n",
       "      <th>2</th>\n",
       "      <td>Adamantina</td>\n",
       "      <td>SP</td>\n",
       "      <td>21/02/2023</td>\n",
       "      <td>Carnaval</td>\n",
       "    </tr>\n",
       "    <tr>\n",
       "      <th>3</th>\n",
       "      <td>Adamantina</td>\n",
       "      <td>SP</td>\n",
       "      <td>22/02/2023</td>\n",
       "      <td>Carnaval</td>\n",
       "    </tr>\n",
       "    <tr>\n",
       "      <th>4</th>\n",
       "      <td>Adamantina</td>\n",
       "      <td>SP</td>\n",
       "      <td>07/04/2023</td>\n",
       "      <td>Sexta Feira Santa</td>\n",
       "    </tr>\n",
       "    <tr>\n",
       "      <th>5</th>\n",
       "      <td>Adamantina</td>\n",
       "      <td>SP</td>\n",
       "      <td>21/04/2023</td>\n",
       "      <td>Dia De Tiradentes</td>\n",
       "    </tr>\n",
       "    <tr>\n",
       "      <th>6</th>\n",
       "      <td>Adamantina</td>\n",
       "      <td>SP</td>\n",
       "      <td>01/05/2023</td>\n",
       "      <td>Dia Do Trabalho</td>\n",
       "    </tr>\n",
       "    <tr>\n",
       "      <th>7</th>\n",
       "      <td>Adamantina</td>\n",
       "      <td>SP</td>\n",
       "      <td>08/06/2023</td>\n",
       "      <td>Corpus Christi</td>\n",
       "    </tr>\n",
       "    <tr>\n",
       "      <th>8</th>\n",
       "      <td>Adamantina</td>\n",
       "      <td>SP</td>\n",
       "      <td>13/06/2023</td>\n",
       "      <td>Dia De Santo Antônio</td>\n",
       "    </tr>\n",
       "    <tr>\n",
       "      <th>9</th>\n",
       "      <td>Adamantina</td>\n",
       "      <td>SP</td>\n",
       "      <td>09/07/2023</td>\n",
       "      <td>Revolução Constitucionalista</td>\n",
       "    </tr>\n",
       "  </tbody>\n",
       "</table>\n",
       "</div>"
      ],
      "text/plain": [
       "       Cidade Estado        Data                       Feriado\n",
       "0  Adamantina     SP  01/01/2023                      Ano Novo\n",
       "1  Adamantina     SP  20/02/2023                      Carnaval\n",
       "2  Adamantina     SP  21/02/2023                      Carnaval\n",
       "3  Adamantina     SP  22/02/2023                      Carnaval\n",
       "4  Adamantina     SP  07/04/2023             Sexta Feira Santa\n",
       "5  Adamantina     SP  21/04/2023             Dia De Tiradentes\n",
       "6  Adamantina     SP  01/05/2023               Dia Do Trabalho\n",
       "7  Adamantina     SP  08/06/2023                Corpus Christi\n",
       "8  Adamantina     SP  13/06/2023          Dia De Santo Antônio\n",
       "9  Adamantina     SP  09/07/2023  Revolução Constitucionalista"
      ]
     },
     "execution_count": 10,
     "metadata": {},
     "output_type": "execute_result"
    }
   ],
   "source": [
    "df.head(10)"
   ]
  },
  {
   "cell_type": "code",
   "execution_count": 11,
   "id": "2590e8c7",
   "metadata": {},
   "outputs": [
    {
     "data": {
      "text/plain": [
       "Carnaval                    4497\n",
       "Feriado Municipal           1976\n",
       "Corpus Christi              1598\n",
       "Sexta Feira Santa           1549\n",
       "Ano Novo                    1498\n",
       "Dia Do Professor            1498\n",
       "Natal                       1498\n",
       "Proclamação Da República    1498\n",
       "Dia De Finados              1498\n",
       "Dia Do Servidor Público     1498\n",
       "Name: Feriado, dtype: int64"
      ]
     },
     "execution_count": 11,
     "metadata": {},
     "output_type": "execute_result"
    }
   ],
   "source": [
    "df.Feriado.value_counts()[:10]"
   ]
  },
  {
   "cell_type": "code",
   "execution_count": 12,
   "id": "e37e6a02",
   "metadata": {},
   "outputs": [],
   "source": [
    "df.drop_duplicates(inplace=True)"
   ]
  },
  {
   "cell_type": "code",
   "execution_count": 13,
   "id": "b044a859",
   "metadata": {},
   "outputs": [],
   "source": [
    "df.drop(index = df[df['Feriado'] == 'Finados'].index, axis = 0, inplace=True)\n",
    "df.drop(index = df[df['Feriado'] == 'Sexta Feira Da Paixão'].index, axis = 0, inplace=True)\n",
    "df.drop(index = df[df['Feriado'] == 'Terça De Carnaval'].index, axis = 0, inplace=True)\n",
    "df.replace('Dia Da Consciência Negra   Lei No. 3.249, De 18 De Novembro De 2008','Dia Da Consciência Negra', inplace=True)\n",
    "df.replace('Dia Da Consciência Negra   Lei No 1.914 De 04 De Dezembro De 2007','Dia Da Consciência Negra', inplace=True)\n",
    "df.replace('Dia Da Consciência Negra   Lei 4.731 22/12/2008.','Dia Da Consciência Negra', inplace=True)"
   ]
  },
  {
   "cell_type": "code",
   "execution_count": 14,
   "id": "5f521025",
   "metadata": {},
   "outputs": [],
   "source": [
    "df = df.reset_index(drop=True)"
   ]
  },
  {
   "cell_type": "code",
   "execution_count": 15,
   "id": "b11f6fb8",
   "metadata": {},
   "outputs": [
    {
     "data": {
      "text/plain": [
       "Carnaval                                                                      4494\n",
       "Feriado Municipal                                                             1976\n",
       "Ano Novo                                                                      1498\n",
       "Nossa Senhora Aparecida                                                       1498\n",
       "Natal                                                                         1498\n",
       "                                                                              ... \n",
       "Sagrado Coração De Jesus                                                         1\n",
       "Fundação Da Cidade De Palmital E Dia De São Sebastião, Padroeiro Da Cidade       1\n",
       "Emancipação De Osasco                                                            1\n",
       "São João Batista                                                                 1\n",
       "Santa Rita                                                                       1\n",
       "Name: Feriado, Length: 130, dtype: int64"
      ]
     },
     "execution_count": 15,
     "metadata": {},
     "output_type": "execute_result"
    }
   ],
   "source": [
    "df.Feriado.value_counts()"
   ]
  },
  {
   "cell_type": "code",
   "execution_count": 16,
   "id": "30187764",
   "metadata": {},
   "outputs": [],
   "source": [
    "feriados_nacionais = ['Carnaval','Ano Novo','Nossa Senhora Aparecida','Natal','Proclamação Da República',\n",
    "                      'Dia De Finados','Dia Do Servidor Público','Dia Do Professor','Independência Do Brasil',\n",
    "                     'Corpus Christi','Dia Do Trabalho','Dia De Tiradentes','Sexta Feira Santa']\n",
    "\n",
    "conditions = [\n",
    "    (df['Feriado'].isin(feriados_nacionais)),\n",
    "    (df['Feriado'] == 'Revolução Constitucionalista')\n",
    "     ]\n",
    "\n",
    "labels = ['Feriado Nacional', 'Feriado Estadual']"
   ]
  },
  {
   "cell_type": "code",
   "execution_count": 17,
   "id": "95cc0510",
   "metadata": {},
   "outputs": [],
   "source": [
    "df['Tipo'] = np.select(conditions, labels, default = 'Feriado Municipal')"
   ]
  },
  {
   "cell_type": "code",
   "execution_count": 18,
   "id": "4e9c4d27",
   "metadata": {},
   "outputs": [
    {
     "data": {
      "text/html": [
       "<div>\n",
       "<style scoped>\n",
       "    .dataframe tbody tr th:only-of-type {\n",
       "        vertical-align: middle;\n",
       "    }\n",
       "\n",
       "    .dataframe tbody tr th {\n",
       "        vertical-align: top;\n",
       "    }\n",
       "\n",
       "    .dataframe thead th {\n",
       "        text-align: right;\n",
       "    }\n",
       "</style>\n",
       "<table border=\"1\" class=\"dataframe\">\n",
       "  <thead>\n",
       "    <tr style=\"text-align: right;\">\n",
       "      <th></th>\n",
       "      <th>Cidade</th>\n",
       "      <th>Estado</th>\n",
       "      <th>Data</th>\n",
       "      <th>Feriado</th>\n",
       "      <th>Tipo</th>\n",
       "    </tr>\n",
       "  </thead>\n",
       "  <tbody>\n",
       "    <tr>\n",
       "      <th>0</th>\n",
       "      <td>Adamantina</td>\n",
       "      <td>SP</td>\n",
       "      <td>01/01/2023</td>\n",
       "      <td>Ano Novo</td>\n",
       "      <td>Feriado Nacional</td>\n",
       "    </tr>\n",
       "    <tr>\n",
       "      <th>1</th>\n",
       "      <td>Adamantina</td>\n",
       "      <td>SP</td>\n",
       "      <td>20/02/2023</td>\n",
       "      <td>Carnaval</td>\n",
       "      <td>Feriado Nacional</td>\n",
       "    </tr>\n",
       "    <tr>\n",
       "      <th>2</th>\n",
       "      <td>Adamantina</td>\n",
       "      <td>SP</td>\n",
       "      <td>21/02/2023</td>\n",
       "      <td>Carnaval</td>\n",
       "      <td>Feriado Nacional</td>\n",
       "    </tr>\n",
       "    <tr>\n",
       "      <th>3</th>\n",
       "      <td>Adamantina</td>\n",
       "      <td>SP</td>\n",
       "      <td>22/02/2023</td>\n",
       "      <td>Carnaval</td>\n",
       "      <td>Feriado Nacional</td>\n",
       "    </tr>\n",
       "    <tr>\n",
       "      <th>4</th>\n",
       "      <td>Adamantina</td>\n",
       "      <td>SP</td>\n",
       "      <td>07/04/2023</td>\n",
       "      <td>Sexta Feira Santa</td>\n",
       "      <td>Feriado Nacional</td>\n",
       "    </tr>\n",
       "  </tbody>\n",
       "</table>\n",
       "</div>"
      ],
      "text/plain": [
       "       Cidade Estado        Data            Feriado              Tipo\n",
       "0  Adamantina     SP  01/01/2023           Ano Novo  Feriado Nacional\n",
       "1  Adamantina     SP  20/02/2023           Carnaval  Feriado Nacional\n",
       "2  Adamantina     SP  21/02/2023           Carnaval  Feriado Nacional\n",
       "3  Adamantina     SP  22/02/2023           Carnaval  Feriado Nacional\n",
       "4  Adamantina     SP  07/04/2023  Sexta Feira Santa  Feriado Nacional"
      ]
     },
     "execution_count": 18,
     "metadata": {},
     "output_type": "execute_result"
    }
   ],
   "source": [
    "df.head()"
   ]
  },
  {
   "cell_type": "code",
   "execution_count": 19,
   "id": "580f6e10",
   "metadata": {},
   "outputs": [],
   "source": [
    "df.to_csv('lista_feriados.csv', sep=';', encoding='UTF-8', index=False)"
   ]
  }
 ],
 "metadata": {
  "kernelspec": {
   "display_name": "DS",
   "language": "python",
   "name": "python3"
  },
  "language_info": {
   "codemirror_mode": {
    "name": "ipython",
    "version": 3
   },
   "file_extension": ".py",
   "mimetype": "text/x-python",
   "name": "python",
   "nbconvert_exporter": "python",
   "pygments_lexer": "ipython3",
   "version": "3.11.0"
  },
  "vscode": {
   "interpreter": {
    "hash": "f50ff86dcc83d827658d7bf4a58af5dc80cc4a2f0dc533cdadc754e7a241a0a7"
   }
  }
 },
 "nbformat": 4,
 "nbformat_minor": 5
}
